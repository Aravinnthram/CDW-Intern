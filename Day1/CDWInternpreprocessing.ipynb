{
 "cells": [
  {
   "cell_type": "code",
   "execution_count": 6,
   "metadata": {},
   "outputs": [
    {
     "name": "stdout",
     "output_type": "stream",
     "text": [
      "Hola\n"
     ]
    }
   ],
   "source": [
    "print(\"Hola\")"
   ]
  },
  {
   "cell_type": "code",
   "execution_count": 12,
   "metadata": {},
   "outputs": [
    {
     "name": "stdout",
     "output_type": "stream",
     "text": [
      "['Google Chrome is a web browser developed by Google.', 'It was first released in 2008 for Microsoft Windows, built with free software components from Apple WebKit and Mozilla Firefox.', '[14] Versions were later released for Linux, macOS, iOS, iPadOS, and also for Android, where it is the default browser.', '[15] The browser is also the main component of ChromeOS, where it serves as the platform for web applications.', \"Most of Chrome's source code comes from Google's free and open-source software project Chromium, but Chrome is licensed as proprietary freeware.\", '[13] WebKit was the original rendering engine, but Google eventually forked it to create the Blink engine;[16] all Chrome variants except iOS used Blink as of 2017.', '[17]\\n\\nAs of April 2024, StatCounter estimates that Chrome has a 65% worldwide browser market share (after peaking at 72.38% in November 2018) on personal computers (PC),[18] is most used on tablets (having surpassed Safari), and is also dominant on smartphones.', '[19][20] With a market share of 65% across all platforms combined, Chrome is the most used web browser in the world today.', '[21]\\n\\nGoogle chief executive Eric Schmidt was previously involved in the \"browser wars\", a part of U.S. corporate history, and opposed the expansion of the company into such a new area.', 'However, Google co-founders Sergey Brin and Larry Page spearheaded a software demonstration that pushed Schmidt into making Chrome a core business priority, which resulted in commercial success.', '[22] Because of the proliferation of Chrome, Google has expanded the \"Chrome\" brand name to other products.', 'These include not just ChromeOS but also Chromecast, Chromebook, Chromebit, Chromebox, and Chromebase.']\n",
      "['Google', 'Chrome', 'is', 'a', 'web', 'browser', 'developed', 'by', 'Google', '.', 'It', 'was', 'first', 'released', 'in', '2008', 'for', 'Microsoft', 'Windows', ',', 'built', 'with', 'free', 'software', 'components', 'from', 'Apple', 'WebKit', 'and', 'Mozilla', 'Firefox', '.', '[', '14', ']', 'Versions', 'were', 'later', 'released', 'for', 'Linux', ',', 'macOS', ',', 'iOS', ',', 'iPadOS', ',', 'and', 'also', 'for', 'Android', ',', 'where', 'it', 'is', 'the', 'default', 'browser', '.', '[', '15', ']', 'The', 'browser', 'is', 'also', 'the', 'main', 'component', 'of', 'ChromeOS', ',', 'where', 'it', 'serves', 'as', 'the', 'platform', 'for', 'web', 'applications', '.', 'Most', 'of', 'Chrome', \"'s\", 'source', 'code', 'comes', 'from', 'Google', \"'s\", 'free', 'and', 'open-source', 'software', 'project', 'Chromium', ',', 'but', 'Chrome', 'is', 'licensed', 'as', 'proprietary', 'freeware', '.', '[', '13', ']', 'WebKit', 'was', 'the', 'original', 'rendering', 'engine', ',', 'but', 'Google', 'eventually', 'forked', 'it', 'to', 'create', 'the', 'Blink', 'engine', ';', '[', '16', ']', 'all', 'Chrome', 'variants', 'except', 'iOS', 'used', 'Blink', 'as', 'of', '2017', '.', '[', '17', ']', 'As', 'of', 'April', '2024', ',', 'StatCounter', 'estimates', 'that', 'Chrome', 'has', 'a', '65', '%', 'worldwide', 'browser', 'market', 'share', '(', 'after', 'peaking', 'at', '72.38', '%', 'in', 'November', '2018', ')', 'on', 'personal', 'computers', '(', 'PC', ')', ',', '[', '18', ']', 'is', 'most', 'used', 'on', 'tablets', '(', 'having', 'surpassed', 'Safari', ')', ',', 'and', 'is', 'also', 'dominant', 'on', 'smartphones', '.', '[', '19', ']', '[', '20', ']', 'With', 'a', 'market', 'share', 'of', '65', '%', 'across', 'all', 'platforms', 'combined', ',', 'Chrome', 'is', 'the', 'most', 'used', 'web', 'browser', 'in', 'the', 'world', 'today', '.', '[', '21', ']', 'Google', 'chief', 'executive', 'Eric', 'Schmidt', 'was', 'previously', 'involved', 'in', 'the', '``', 'browser', 'wars', \"''\", ',', 'a', 'part', 'of', 'U.S.', 'corporate', 'history', ',', 'and', 'opposed', 'the', 'expansion', 'of', 'the', 'company', 'into', 'such', 'a', 'new', 'area', '.', 'However', ',', 'Google', 'co-founders', 'Sergey', 'Brin', 'and', 'Larry', 'Page', 'spearheaded', 'a', 'software', 'demonstration', 'that', 'pushed', 'Schmidt', 'into', 'making', 'Chrome', 'a', 'core', 'business', 'priority', ',', 'which', 'resulted', 'in', 'commercial', 'success', '.', '[', '22', ']', 'Because', 'of', 'the', 'proliferation', 'of', 'Chrome', ',', 'Google', 'has', 'expanded', 'the', '``', 'Chrome', \"''\", 'brand', 'name', 'to', 'other', 'products', '.', 'These', 'include', 'not', 'just', 'ChromeOS', 'but', 'also', 'Chromecast', ',', 'Chromebook', ',', 'Chromebit', ',', 'Chromebox', ',', 'and', 'Chromebase', '.']\n"
     ]
    },
    {
     "name": "stderr",
     "output_type": "stream",
     "text": [
      "[nltk_data] Downloading package punkt_tab to\n",
      "[nltk_data]     C:\\Users\\Aravinnth\\AppData\\Roaming\\nltk_data...\n",
      "[nltk_data]   Package punkt_tab is already up-to-date!\n"
     ]
    }
   ],
   "source": [
    "from nltk.tokenize import sent_tokenize, word_tokenize\n",
    "import nltk\n",
    "nltk.download('punkt_tab')\n",
    "\n",
    "mytext = \"\"\"Google Chrome is a web browser developed by Google. It was first released in 2008 for Microsoft Windows, built with free software components from Apple WebKit and Mozilla Firefox.[14] Versions were later released for Linux, macOS, iOS, iPadOS, and also for Android, where it is the default browser.[15] The browser is also the main component of ChromeOS, where it serves as the platform for web applications.\n",
    "\n",
    "Most of Chrome's source code comes from Google's free and open-source software project Chromium, but Chrome is licensed as proprietary freeware.[13] WebKit was the original rendering engine, but Google eventually forked it to create the Blink engine;[16] all Chrome variants except iOS used Blink as of 2017.[17]\n",
    "\n",
    "As of April 2024, StatCounter estimates that Chrome has a 65% worldwide browser market share (after peaking at 72.38% in November 2018) on personal computers (PC),[18] is most used on tablets (having surpassed Safari), and is also dominant on smartphones.[19][20] With a market share of 65% across all platforms combined, Chrome is the most used web browser in the world today.[21]\n",
    "\n",
    "Google chief executive Eric Schmidt was previously involved in the \"browser wars\", a part of U.S. corporate history, and opposed the expansion of the company into such a new area. However, Google co-founders Sergey Brin and Larry Page spearheaded a software demonstration that pushed Schmidt into making Chrome a core business priority, which resulted in commercial success.[22] Because of the proliferation of Chrome, Google has expanded the \"Chrome\" brand name to other products. These include not just ChromeOS but also Chromecast, Chromebook, Chromebit, Chromebox, and Chromebase.\"\"\"\n",
    "print(sent_tokenize(mytext))\n",
    "print(word_tokenize(mytext))"
   ]
  },
  {
   "cell_type": "code",
   "execution_count": 14,
   "metadata": {},
   "outputs": [
    {
     "data": {
      "text/html": [
       "<div>\n",
       "<style scoped>\n",
       "    .dataframe tbody tr th:only-of-type {\n",
       "        vertical-align: middle;\n",
       "    }\n",
       "\n",
       "    .dataframe tbody tr th {\n",
       "        vertical-align: top;\n",
       "    }\n",
       "\n",
       "    .dataframe thead th {\n",
       "        text-align: right;\n",
       "    }\n",
       "</style>\n",
       "<table border=\"1\" class=\"dataframe\">\n",
       "  <thead>\n",
       "    <tr style=\"text-align: right;\">\n",
       "      <th></th>\n",
       "      <th>original_word</th>\n",
       "      <th>stemmed_word</th>\n",
       "    </tr>\n",
       "  </thead>\n",
       "  <tbody>\n",
       "    <tr>\n",
       "      <th>0</th>\n",
       "      <td>connect</td>\n",
       "      <td>connect</td>\n",
       "    </tr>\n",
       "    <tr>\n",
       "      <th>1</th>\n",
       "      <td>connected</td>\n",
       "      <td>connect</td>\n",
       "    </tr>\n",
       "    <tr>\n",
       "      <th>2</th>\n",
       "      <td>connection</td>\n",
       "      <td>connect</td>\n",
       "    </tr>\n",
       "    <tr>\n",
       "      <th>3</th>\n",
       "      <td>connections</td>\n",
       "      <td>connect</td>\n",
       "    </tr>\n",
       "    <tr>\n",
       "      <th>4</th>\n",
       "      <td>connects</td>\n",
       "      <td>connect</td>\n",
       "    </tr>\n",
       "  </tbody>\n",
       "</table>\n",
       "</div>"
      ],
      "text/plain": [
       "  original_word stemmed_word\n",
       "0       connect      connect\n",
       "1     connected      connect\n",
       "2    connection      connect\n",
       "3   connections      connect\n",
       "4      connects      connect"
      ]
     },
     "execution_count": 14,
     "metadata": {},
     "output_type": "execute_result"
    }
   ],
   "source": [
    "\n",
    "import nltk\n",
    "import pandas as pd\n",
    "from nltk.stem import PorterStemmer\n",
    "\n",
    "# init stemmer\n",
    "porter_stemmer=PorterStemmer()\n",
    "# stem connect variations\n",
    "words=[\"connect\",\"connected\",\"connection\",\"connections\",\"connects\"]\n",
    "stemmed_words=[porter_stemmer.stem(word=word) for word in words]\n",
    "\n",
    "stemdf= pd.DataFrame({'original_word': words,'stemmed_word': stemmed_words})\n",
    "stemdf"
   ]
  },
  {
   "cell_type": "code",
   "execution_count": 15,
   "metadata": {},
   "outputs": [
    {
     "name": "stderr",
     "output_type": "stream",
     "text": [
      "[nltk_data] Downloading package wordnet to\n",
      "[nltk_data]     C:\\Users\\Aravinnth\\AppData\\Roaming\\nltk_data...\n"
     ]
    },
    {
     "data": {
      "text/html": [
       "<div>\n",
       "<style scoped>\n",
       "    .dataframe tbody tr th:only-of-type {\n",
       "        vertical-align: middle;\n",
       "    }\n",
       "\n",
       "    .dataframe tbody tr th {\n",
       "        vertical-align: top;\n",
       "    }\n",
       "\n",
       "    .dataframe thead th {\n",
       "        text-align: right;\n",
       "    }\n",
       "</style>\n",
       "<table border=\"1\" class=\"dataframe\">\n",
       "  <thead>\n",
       "    <tr style=\"text-align: right;\">\n",
       "      <th></th>\n",
       "      <th>original_word</th>\n",
       "      <th>lemmatized_word</th>\n",
       "    </tr>\n",
       "  </thead>\n",
       "  <tbody>\n",
       "    <tr>\n",
       "      <th>0</th>\n",
       "      <td>connect</td>\n",
       "      <td>connect</td>\n",
       "    </tr>\n",
       "    <tr>\n",
       "      <th>1</th>\n",
       "      <td>connected</td>\n",
       "      <td>connected</td>\n",
       "    </tr>\n",
       "    <tr>\n",
       "      <th>2</th>\n",
       "      <td>connection</td>\n",
       "      <td>connection</td>\n",
       "    </tr>\n",
       "    <tr>\n",
       "      <th>3</th>\n",
       "      <td>connections</td>\n",
       "      <td>connection</td>\n",
       "    </tr>\n",
       "    <tr>\n",
       "      <th>4</th>\n",
       "      <td>connects</td>\n",
       "      <td>connects</td>\n",
       "    </tr>\n",
       "  </tbody>\n",
       "</table>\n",
       "</div>"
      ],
      "text/plain": [
       "  original_word lemmatized_word\n",
       "0       connect         connect\n",
       "1     connected       connected\n",
       "2    connection      connection\n",
       "3   connections      connection\n",
       "4      connects        connects"
      ]
     },
     "execution_count": 15,
     "metadata": {},
     "output_type": "execute_result"
    }
   ],
   "source": [
    "from nltk.stem import WordNetLemmatizer\n",
    "\n",
    "nltk.download('wordnet')\n",
    "\n",
    "# init lemmatizer\n",
    "lemmatizer = WordNetLemmatizer()\n",
    "\n",
    "# lemmatize words\n",
    "lemmatized_words = [lemmatizer.lemmatize(word) for word in words]\n",
    "\n",
    "lemmadf = pd.DataFrame({'original_word': words, 'lemmatized_word': lemmatized_words})\n",
    "lemmadf"
   ]
  },
  {
   "cell_type": "code",
   "execution_count": null,
   "metadata": {},
   "outputs": [],
   "source": []
  }
 ],
 "metadata": {
  "kernelspec": {
   "display_name": "myvenv",
   "language": "python",
   "name": "python3"
  },
  "language_info": {
   "codemirror_mode": {
    "name": "ipython",
    "version": 3
   },
   "file_extension": ".py",
   "mimetype": "text/x-python",
   "name": "python",
   "nbconvert_exporter": "python",
   "pygments_lexer": "ipython3",
   "version": "3.12.4"
  }
 },
 "nbformat": 4,
 "nbformat_minor": 2
}
